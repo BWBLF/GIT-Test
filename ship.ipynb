{
 "cells": [
  {
   "cell_type": "code",
   "execution_count": 2,
   "metadata": {},
   "outputs": [
    {
     "name": "stdout",
     "output_type": "stream",
     "text": [
      "There is no text for --ip=127.0.0.1\n"
     ]
    }
   ],
   "source": [
    "import pyperclip\n",
    "#! python3\n",
    "# Chương trình nhắn tin tự động\n",
    "\"\"\" với đối số dòng lệnh là ĐỒNG Ý hoặc BẬN, Thông báo sẽ được liên kết với cum từ khóa đó được sao chép vào khay nhớ\n",
    "tạm thời để người dùng có thể dán vào Email.\n",
    "Bằng cách này người dùng có thể trả lời các tin nhắn dài, chi tiết mà không cần nhập lại chúng\n",
    "\"\"\"\n",
    "#! Python 3\n",
    "# mclip.py - A multi-clipboard program.\n",
    "\n",
    "###             C:\\Users\\ADMIN\\AppData\\Local\\Programs\\Python\\Python310\n",
    "\n",
    "TEXT = {'agree': \"\"\"Yes, I agree. That sounds fine to me.\"\"\",\n",
    "        'busy': \"\"\"Sorry, can we do this later this week or next week?\"\"\",\n",
    "        'upsell': \"\"\"Would you consider making this a monthly donation?\"\"\"}\n",
    "\n",
    "import sys, pyperclip\n",
    "\n",
    "if len(sys.argv) < 2:\n",
    "    print('Usage: py mclip.py [keyphrase] - copy phrase text')\n",
    "    sys.exit()\n",
    "\n",
    "keyphrase = sys.argv[1]    # first command line arg is the keyphrase\n",
    "\n",
    "if keyphrase in TEXT:\n",
    "    pyperclip.copy(TEXT[keyphrase])\n",
    "    print('Text for ' + keyphrase + ' copied to clipboard.')\n",
    "else:\n",
    "    print('There is no text for ' + keyphrase)\n"
   ]
  }
 ],
 "metadata": {
  "kernelspec": {
   "display_name": "Python 3.10.4 64-bit",
   "language": "python",
   "name": "python3"
  },
  "language_info": {
   "codemirror_mode": {
    "name": "ipython",
    "version": 3
   },
   "file_extension": ".py",
   "mimetype": "text/x-python",
   "name": "python",
   "nbconvert_exporter": "python",
   "pygments_lexer": "ipython3",
   "version": "3.10.4"
  },
  "orig_nbformat": 4,
  "vscode": {
   "interpreter": {
    "hash": "31671a60cee805c34c73116577b485118ff3a75c458d3004d49632c19702ac60"
   }
  }
 },
 "nbformat": 4,
 "nbformat_minor": 2
}
